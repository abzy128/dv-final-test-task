{
  "nbformat": 4,
  "nbformat_minor": 0,
  "metadata": {
    "colab": {
      "provenance": []
    },
    "kernelspec": {
      "name": "python3",
      "display_name": "Python 3"
    },
    "language_info": {
      "name": "python"
    }
  },
  "cells": [
    {
      "cell_type": "markdown",
      "source": [
        "8. Во вкладке \"Данные АБ-тестов\" результаты трех несвязанных АБ тестов для ARPU (общая выручка/общее количество пользователей).\n",
        "Посмотрите на результаты тестов и интерпретируйте их. Напишите значения p-value, которые вы получили.\n",
        "Подготовьте выводы и рекомендации.\n",
        "\n",
        "experiment_num - номер эксперимента\n",
        "experiment_group - группа, в которую попал пользователь\n",
        "user_id - id пользователя\n",
        "revenue - выручка, которую сгенерировал пользователь, купив платную услугу продвижения\n"
      ],
      "metadata": {
        "id": "T_icwVMKnnBv"
      }
    },
    {
      "cell_type": "code",
      "execution_count": 2,
      "metadata": {
        "colab": {
          "base_uri": "https://localhost:8080/"
        },
        "id": "X6FprlnSnkxx",
        "outputId": "73215859-b453-48c8-a314-c728373b7fba"
      },
      "outputs": [
        {
          "output_type": "stream",
          "name": "stdout",
          "text": [
            "   experiment_num  test_mean_ARPU  control_mean_ARPU   p_value\n",
            "0               1      665.739583         722.460215  0.688966\n",
            "1               2      332.929167         704.653763  0.001128\n",
            "2               3      998.668750         663.206452  0.060315\n"
          ]
        }
      ],
      "source": [
        "import pandas as pd\n",
        "from scipy.stats import ttest_ind\n",
        "\n",
        "data = pd.read_excel(\"Данные для тестового задания.xlsx\", sheet_name=\"Данные АБ тестов\")\n",
        "results = []\n",
        "\n",
        "for experiment_num in data['experiment_num'].unique():\n",
        "    exp_data = data[data['experiment_num'] == experiment_num]\n",
        "\n",
        "    test_group = exp_data[exp_data['experiment_group'] == 'test']['revenue']\n",
        "    control_group = exp_data[exp_data['experiment_group'] == 'control']['revenue']\n",
        "\n",
        "    t_stat, p_value = ttest_ind(test_group, control_group, equal_var=False)\n",
        "    results.append({\n",
        "        \"experiment_num\": experiment_num,\n",
        "        \"test_mean_ARPU\": test_group.mean(),\n",
        "        \"control_mean_ARPU\": control_group.mean(),\n",
        "        \"p_value\": p_value\n",
        "    })\n",
        "\n",
        "results_df = pd.DataFrame(results)\n",
        "print(results_df)\n"
      ]
    }
  ]
}